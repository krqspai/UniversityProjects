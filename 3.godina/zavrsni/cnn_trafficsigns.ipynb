{
  "nbformat": 4,
  "nbformat_minor": 0,
  "metadata": {
    "colab": {
      "provenance": [],
      "gpuType": "T4"
    },
    "kernelspec": {
      "name": "python3",
      "display_name": "Python 3"
    },
    "language_info": {
      "name": "python"
    },
    "accelerator": "GPU"
  },
  "cells": [
    {
      "cell_type": "code",
      "execution_count": 194,
      "metadata": {
        "id": "ieVQLdrKvoYN"
      },
      "outputs": [],
      "source": [
        "import torch\n",
        "import torch.nn as nn\n",
        "import torch.nn.functional as F\n",
        "import torchvision\n",
        "from torch.utils.data import DataLoader\n",
        "from torchvision import datasets, transforms\n",
        "import matplotlib.pyplot as plt\n",
        "from IPython.display import display\n",
        "from torch.optim.lr_scheduler import StepLR"
      ]
    },
    {
      "cell_type": "code",
      "source": [
        "transform_train = transforms.Compose([\n",
        "    transforms.Resize((30, 30)),\n",
        "    transforms.RandomRotation(5),\n",
        "    transforms.RandomAffine(0, translate=(0.05, 0.05)),\n",
        "    transforms.ColorJitter(brightness=0.1, contrast=0.1),\n",
        "    transforms.ToTensor()\n",
        "])\n",
        "\n",
        "transform_test = transforms.Compose([\n",
        "    transforms.Resize((30, 30)),\n",
        "    transforms.ToTensor()\n",
        "])\n",
        "\n",
        "train_data = torchvision.datasets.GTSRB(root='./data', split='train', download=True, transform=transform_train)"
      ],
      "metadata": {
        "id": "jxMNzgY7xglk"
      },
      "execution_count": 195,
      "outputs": []
    },
    {
      "cell_type": "code",
      "source": [
        "train_data"
      ],
      "metadata": {
        "colab": {
          "base_uri": "https://localhost:8080/"
        },
        "id": "GBkm3R38xwnD",
        "outputId": "d2a8bb61-6f78-4b50-8517-5997740ba052"
      },
      "execution_count": 196,
      "outputs": [
        {
          "output_type": "execute_result",
          "data": {
            "text/plain": [
              "Dataset GTSRB\n",
              "    Number of datapoints: 26640\n",
              "    Root location: ./data\n",
              "    StandardTransform\n",
              "Transform: Compose(\n",
              "               Resize(size=(30, 30), interpolation=bilinear, max_size=None, antialias=True)\n",
              "               RandomRotation(degrees=[-5.0, 5.0], interpolation=nearest, expand=False, fill=0)\n",
              "               RandomAffine(degrees=[0.0, 0.0], translate=(0.05, 0.05))\n",
              "               ColorJitter(brightness=(0.9, 1.1), contrast=(0.9, 1.1), saturation=None, hue=None)\n",
              "               ToTensor()\n",
              "           )"
            ]
          },
          "metadata": {},
          "execution_count": 196
        }
      ]
    },
    {
      "cell_type": "code",
      "source": [
        "train_loader = DataLoader(train_data, batch_size=32, shuffle=True)"
      ],
      "metadata": {
        "id": "QlscippmLXX-"
      },
      "execution_count": 197,
      "outputs": []
    },
    {
      "cell_type": "code",
      "source": [
        "test_data = torchvision.datasets.GTSRB(root='./data', split='test', download=True, transform=transform_test)\n",
        "test_data"
      ],
      "metadata": {
        "colab": {
          "base_uri": "https://localhost:8080/"
        },
        "id": "7jghh7DvzwTr",
        "outputId": "74eaff33-2acc-44cb-a0e7-a911004d077d"
      },
      "execution_count": 198,
      "outputs": [
        {
          "output_type": "execute_result",
          "data": {
            "text/plain": [
              "Dataset GTSRB\n",
              "    Number of datapoints: 12630\n",
              "    Root location: ./data\n",
              "    StandardTransform\n",
              "Transform: Compose(\n",
              "               Resize(size=(30, 30), interpolation=bilinear, max_size=None, antialias=True)\n",
              "               ToTensor()\n",
              "           )"
            ]
          },
          "metadata": {},
          "execution_count": 198
        }
      ]
    },
    {
      "cell_type": "code",
      "source": [
        "img, label = train_data[15200]\n",
        "print(img.shape)\n",
        "plt.imshow(img.permute(1, 2, 0))\n",
        "plt.show()\n",
        "print(label)"
      ],
      "metadata": {
        "colab": {
          "base_uri": "https://localhost:8080/",
          "height": 465
        },
        "id": "iTqPgzaa0ZYA",
        "outputId": "12576662-6014-48f2-d1cb-46689e47a837"
      },
      "execution_count": 199,
      "outputs": [
        {
          "output_type": "stream",
          "name": "stdout",
          "text": [
            "torch.Size([3, 30, 30])\n"
          ]
        },
        {
          "output_type": "display_data",
          "data": {
            "text/plain": [
              "<Figure size 640x480 with 1 Axes>"
            ],
            "image/png": "[encoded data removed]"
          },
          "metadata": {}
        },
        {
          "output_type": "stream",
          "name": "stdout",
          "text": [
            "14\n"
          ]
        }
      ]
    },
    {
      "cell_type": "code",
      "source": [
        "conv = nn.Conv2d(3, 32, 3, 1)\n",
        "for i, (X_train, y_train) in enumerate(train_data):\n",
        "  break\n",
        "plt.imshow(X_train.permute(1, 2, 0))\n",
        "plt.show()"
      ],
      "metadata": {
        "colab": {
          "base_uri": "https://localhost:8080/",
          "height": 430
        },
        "id": "qKNEJ8zMAYQR",
        "outputId": "0b7d434f-7f6c-40c9-a1e1-e23d2bc6ecf2"
      },
      "execution_count": 200,
      "outputs": [
        {
          "output_type": "display_data",
          "data": {
            "text/plain": [
              "<Figure size 640x480 with 1 Axes>"
            ],
            "image/png": "[encoded data removed]"
          },
          "metadata": {}
        }
      ]
    },
    {
      "cell_type": "code",
      "source": [
        "X_train.shape"
      ],
      "metadata": {
        "colab": {
          "base_uri": "https://localhost:8080/"
        },
        "id": "FzuraFgMAlk5",
        "outputId": "a017b822-2b2e-4ab5-c30b-cda93c9f503f"
      },
      "execution_count": 201,
      "outputs": [
        {
          "output_type": "execute_result",
          "data": {
            "text/plain": [
              "torch.Size([3, 30, 30])"
            ]
          },
          "metadata": {},
          "execution_count": 201
        }
      ]
    },
    {
      "cell_type": "code",
      "source": [
        "x = X_train.unsqueeze(0)\n",
        "x = F.relu(conv(x))\n",
        "x.shape"
      ],
      "metadata": {
        "colab": {
          "base_uri": "https://localhost:8080/"
        },
        "id": "N3xS15dDAqfQ",
        "outputId": "27cb9bb1-226c-4209-d78f-240bfb54690a"
      },
      "execution_count": 202,
      "outputs": [
        {
          "output_type": "execute_result",
          "data": {
            "text/plain": [
              "torch.Size([1, 32, 28, 28])"
            ]
          },
          "metadata": {},
          "execution_count": 202
        }
      ]
    },
    {
      "cell_type": "code",
      "source": [
        "#plt.imshow(x.detach().reshape(30, 30))"
      ],
      "metadata": {
        "id": "wiQ4XGc1BVvf"
      },
      "execution_count": 203,
      "outputs": []
    },
    {
      "cell_type": "code",
      "source": [
        "x = F.max_pool2d(x, 2, 2)\n",
        "x.shape"
      ],
      "metadata": {
        "colab": {
          "base_uri": "https://localhost:8080/"
        },
        "id": "MxCdOEzaDLRY",
        "outputId": "b8a7b510-2438-4a0b-8309-f31266372e60"
      },
      "execution_count": 204,
      "outputs": [
        {
          "output_type": "execute_result",
          "data": {
            "text/plain": [
              "torch.Size([1, 32, 14, 14])"
            ]
          },
          "metadata": {},
          "execution_count": 204
        }
      ]
    },
    {
      "cell_type": "code",
      "source": [
        "conv = nn.Conv2d(32, 64, 3, 1, 1)\n",
        "x = F.relu(conv(x))\n",
        "print(x.shape)\n",
        "x = F.max_pool2d(x, 2, 2)\n",
        "print(x.shape)"
      ],
      "metadata": {
        "colab": {
          "base_uri": "https://localhost:8080/"
        },
        "id": "H0pFUWK-mXEv",
        "outputId": "8ee00475-7f89-4abc-9740-12cd197223c3"
      },
      "execution_count": 205,
      "outputs": [
        {
          "output_type": "stream",
          "name": "stdout",
          "text": [
            "torch.Size([1, 64, 14, 14])\n",
            "torch.Size([1, 64, 7, 7])\n"
          ]
        }
      ]
    },
    {
      "cell_type": "code",
      "source": [
        "class ConvolutionalNetwork(nn.Module):\n",
        "  def __init__(self):\n",
        "    super().__init__()\n",
        "    self.conv1 = nn.Conv2d(3, 16, 3, 1)\n",
        "    self.bn1 = nn.BatchNorm2d(16)\n",
        "    self.conv2 = nn.Conv2d(16, 32, 3, 1, 1)\n",
        "    self.bn2 = nn.BatchNorm2d(32)\n",
        "    self.conv3 = nn.Conv2d(32, 64, 3, 1, 1)\n",
        "    self.bn3 = nn.BatchNorm2d(64)\n",
        "    self.conv4 = nn.Conv2d(64, 128, 3, 1, 1)\n",
        "    self.bn4 = nn.BatchNorm2d(128)\n",
        "    self.dropout = nn.Dropout(0.3)\n",
        "    self.fc1 = nn.Linear(128 * 7 * 7, 512)\n",
        "    self.fc2 = nn.Linear(512, 43)\n",
        "\n",
        "  def forward(self, X):\n",
        "    X = F.relu(self.bn1(self.conv1(X)))\n",
        "    X = F.relu(self.bn2(self.conv2(X)))\n",
        "    X = F.max_pool2d(X, 2, 2)\n",
        "    X = F.relu(self.bn3(self.conv3(X)))\n",
        "    X = F.relu(self.bn4(self.conv4(X)))\n",
        "    X = F.max_pool2d(X, 2, 2)\n",
        "\n",
        "    X = X.view(-1, 128 * 7 * 7)\n",
        "\n",
        "    X = self.dropout(F.relu(self.fc1(X)))\n",
        "    X = self.fc2(X)\n",
        "    return F.log_softmax(X, dim=1)"
      ],
      "metadata": {
        "id": "qJ7gMxC7ImLh"
      },
      "execution_count": 215,
      "outputs": []
    },
    {
      "cell_type": "code",
      "source": [
        "torch.manual_seed(282)\n",
        "model = ConvolutionalNetwork()\n",
        "model"
      ],
      "metadata": {
        "colab": {
          "base_uri": "https://localhost:8080/"
        },
        "id": "Ct5azE8FKqwm",
        "outputId": "42496033-a7cb-4338-d74b-4feb713909f7"
      },
      "execution_count": 207,
      "outputs": [
        {
          "output_type": "execute_result",
          "data": {
            "text/plain": [
              "ConvolutionalNetwork(\n",
              "  (conv1): Conv2d(3, 16, kernel_size=(3, 3), stride=(1, 1))\n",
              "  (bn1): BatchNorm2d(16, eps=1e-05, momentum=0.1, affine=True, track_running_stats=True)\n",
              "  (conv2): Conv2d(16, 32, kernel_size=(3, 3), stride=(1, 1), padding=(1, 1))\n",
              "  (bn2): BatchNorm2d(32, eps=1e-05, momentum=0.1, affine=True, track_running_stats=True)\n",
              "  (conv3): Conv2d(32, 64, kernel_size=(3, 3), stride=(1, 1), padding=(1, 1))\n",
              "  (bn3): BatchNorm2d(64, eps=1e-05, momentum=0.1, affine=True, track_running_stats=True)\n",
              "  (conv4): Conv2d(64, 128, kernel_size=(3, 3), stride=(1, 1), padding=(1, 1))\n",
              "  (bn4): BatchNorm2d(128, eps=1e-05, momentum=0.1, affine=True, track_running_stats=True)\n",
              "  (gap): AdaptiveAvgPool2d(output_size=(1, 1))\n",
              "  (dropout): Dropout(p=0.3, inplace=False)\n",
              "  (fc1): Linear(in_features=128, out_features=80, bias=True)\n",
              "  (fc2): Linear(in_features=80, out_features=43, bias=True)\n",
              ")"
            ]
          },
          "metadata": {},
          "execution_count": 207
        }
      ]
    },
    {
      "cell_type": "code",
      "source": [
        "criterion = nn.CrossEntropyLoss()\n",
        "optimizer = torch.optim.Adam(model.parameters(), lr=0.001)\n",
        "scheduler = StepLR(optimizer, step_size=2, gamma=0.5)"
      ],
      "metadata": {
        "id": "nLIA-ktgK6wV"
      },
      "execution_count": 208,
      "outputs": []
    },
    {
      "cell_type": "code",
      "source": [
        "X_test_list = []\n",
        "y_test_list = []\n",
        "\n",
        "for i in range(len(test_data)):\n",
        "    image, label = test_data[i]\n",
        "    X_test_list.append(image)\n",
        "    y_test_list.append(label)\n",
        "\n",
        "X_test = torch.stack(X_test_list)\n",
        "y_test = torch.tensor(y_test_list)"
      ],
      "metadata": {
        "id": "clK8APC4LIuN"
      },
      "execution_count": 209,
      "outputs": []
    },
    {
      "cell_type": "code",
      "source": [
        "len(train_data)"
      ],
      "metadata": {
        "colab": {
          "base_uri": "https://localhost:8080/"
        },
        "id": "00aqfdwsMDE-",
        "outputId": "6f649468-65ad-4e34-c7aa-4a1865be35ec"
      },
      "execution_count": 210,
      "outputs": [
        {
          "output_type": "execute_result",
          "data": {
            "text/plain": [
              "26640"
            ]
          },
          "metadata": {},
          "execution_count": 210
        }
      ]
    },
    {
      "cell_type": "code",
      "source": [
        "epochs = 5\n",
        "trainLosses = []\n",
        "testLosses = []\n",
        "trainCorrect = []\n",
        "testCorrect = []\n",
        "model.train()\n",
        "\n",
        "for i in range(epochs):\n",
        "  train_correct = 0\n",
        "  test_correct = 0\n",
        "  train_loss = 0\n",
        "  for batch_id, (X_train, y_train) in enumerate(train_loader):\n",
        "    optimizer.zero_grad()\n",
        "    y_pred = model(X_train)\n",
        "    loss = criterion(y_pred, y_train)\n",
        "    train_loss += loss.item()\n",
        "\n",
        "    predicted = torch.max(y_pred.data, 1)[1]\n",
        "    train_correct += (predicted == y_train).sum()\n",
        "\n",
        "    loss.backward()\n",
        "    optimizer.step()\n",
        "    if batch_id % 20 == 0:\n",
        "      print(batch_id, end = \" \")\n",
        "\n",
        "  trainLosses.append(train_loss)\n",
        "  trainCorrect.append(train_correct)\n",
        "  print()\n",
        "  print(\"Epoch: \", i, \" Average Train Loss: \", train_loss / len(train_data))\n",
        "\n",
        "  with torch.no_grad():\n",
        "    y_val = model(X_test)\n",
        "    predicted = torch.max(y_val.data, 1)[1]\n",
        "    test_correct += (predicted == y_test).sum()\n",
        "\n",
        "  loss = criterion(y_val, y_test)\n",
        "  testLosses.append(loss)\n",
        "  testCorrect.append(test_correct)\n",
        "  print(\"Epoch: \", i, \" Test Accuracy: \", test_correct.item() / len(y_test), \" Test Loss \" , loss.item())\n",
        "\n",
        "  print(\"Done with epoch \", i)\n",
        "  scheduler.step()"
      ],
      "metadata": {
        "colab": {
          "base_uri": "https://localhost:8080/"
        },
        "id": "wumUim7pLQi1",
        "outputId": "b9140f87-20d1-4364-b767-4226f8b11f90"
      },
      "execution_count": 211,
      "outputs": [
        {
          "output_type": "stream",
          "name": "stdout",
          "text": [
            "0 20 40 60 80 100 120 140 160 180 200 220 240 260 280 300 320 340 360 380 400 420 440 460 480 500 520 540 560 580 600 620 640 660 680 700 720 740 760 780 800 820 \n",
            "Epoch:  0  Average Train Loss:  0.07480407245792785\n",
            "Epoch:  0  Test Accuracy:  0.44117181314330955  Test Loss  1.6995645761489868\n",
            "Done with epoch  0\n",
            "0 20 40 60 80 100 120 140 160 180 200 220 240 260 280 300 320 340 360 380 400 420 440 460 480 500 520 540 560 580 600 620 640 660 680 700 720 740 760 780 800 820 \n",
            "Epoch:  1  Average Train Loss:  0.038413305691367874\n",
            "Epoch:  1  Test Accuracy:  0.692874109263658  Test Loss  0.9422784447669983\n",
            "Done with epoch  1\n",
            "0 20 40 60 80 100 120 140 160 180 200 220 240 260 280 300 320 340 360 380 400 420 440 460 480 500 520 540 560 580 600 620 640 660 680 700 720 740 760 780 800 820 \n",
            "Epoch:  2  Average Train Loss:  0.01867630422316693\n",
            "Epoch:  2  Test Accuracy:  0.807125890736342  Test Loss  0.6052115559577942\n",
            "Done with epoch  2\n",
            "0 20 40 60 80 100 120 140 160 180 200 220 240 260 280 300 320 340 360 380 400 420 440 460 480 500 520 540 560 580 600 620 640 660 680 700 720 740 760 780 800 820 \n",
            "Epoch:  3  Average Train Loss:  0.012912030829614526\n",
            "Epoch:  3  Test Accuracy:  0.8532066508313539  Test Loss  0.4822021722793579\n",
            "Done with epoch  3\n",
            "0 20 40 60 80 100 120 140 160 180 200 220 240 260 280 300 320 340 360 380 400 420 440 460 480 500 520 540 560 580 600 620 640 660 680 700 720 740 760 780 800 820 \n",
            "Epoch:  4  Average Train Loss:  0.008730974785463363\n",
            "Epoch:  4  Test Accuracy:  0.8821852731591449  Test Loss  0.40506795048713684\n",
            "Done with epoch  4\n"
          ]
        }
      ]
    },
    {
      "cell_type": "code",
      "source": [
        "torch.save(model.state_dict(), 'TrafficSignsCNN7.pth')\n",
        "#1: bez dropouta i bez dodatnih transformacija, 88.9%\n",
        "#2: dropout = 0.5, malo veće transformacije, 78.8%\n",
        "#3: dropout = 0.3, prepolovljene transformacije, 10 epoha umjesto 5, 89.9%\n",
        "\n",
        "#cini se da su 1 i 3 slicne uspjesnosti, kod 3 se primjecuje overfitting nakon cca 7 epoha\n",
        "\n",
        "#4: dodana jos dva konvolucijska sloja, sada je 128 output channela, 92.6%\n",
        "#5: promjenjena velicina na 30x30 px, 91.3% (nakon 3. epohe 92.4%)\n",
        "#6: pokusaj sa schedulerom i batch normalizacijom, 95,3%\n",
        "#7: pokusaj s adaptive global average pooling, 88.2% (ali pokazuje potencijal za više ako bi bilo više epoha)"
      ],
      "metadata": {
        "id": "IX5Ywm4PMg2m"
      },
      "execution_count": 212,
      "outputs": []
    },
    {
      "cell_type": "code",
      "source": [
        "model = ConvolutionalNetwork()\n",
        "model.load_state_dict(torch.load('TrafficSignsCNN6.pth'))\n",
        "model.eval()"
      ],
      "metadata": {
        "colab": {
          "base_uri": "https://localhost:8080/"
        },
        "id": "QDWrguNo1psK",
        "outputId": "197681fb-7005-4bcc-a104-5f2b8df65f25"
      },
      "execution_count": 216,
      "outputs": [
        {
          "output_type": "execute_result",
          "data": {
            "text/plain": [
              "ConvolutionalNetwork(\n",
              "  (conv1): Conv2d(3, 16, kernel_size=(3, 3), stride=(1, 1))\n",
              "  (bn1): BatchNorm2d(16, eps=1e-05, momentum=0.1, affine=True, track_running_stats=True)\n",
              "  (conv2): Conv2d(16, 32, kernel_size=(3, 3), stride=(1, 1), padding=(1, 1))\n",
              "  (bn2): BatchNorm2d(32, eps=1e-05, momentum=0.1, affine=True, track_running_stats=True)\n",
              "  (conv3): Conv2d(32, 64, kernel_size=(3, 3), stride=(1, 1), padding=(1, 1))\n",
              "  (bn3): BatchNorm2d(64, eps=1e-05, momentum=0.1, affine=True, track_running_stats=True)\n",
              "  (conv4): Conv2d(64, 128, kernel_size=(3, 3), stride=(1, 1), padding=(1, 1))\n",
              "  (bn4): BatchNorm2d(128, eps=1e-05, momentum=0.1, affine=True, track_running_stats=True)\n",
              "  (dropout): Dropout(p=0.3, inplace=False)\n",
              "  (fc1): Linear(in_features=6272, out_features=512, bias=True)\n",
              "  (fc2): Linear(in_features=512, out_features=43, bias=True)\n",
              ")"
            ]
          },
          "metadata": {},
          "execution_count": 216
        }
      ]
    },
    {
      "cell_type": "code",
      "source": [
        "model.eval()\n",
        "for i in range(17, 12630, 2000):\n",
        "  with torch.no_grad():\n",
        "    new_prediction = model(test_data[i][0].view(1,3,30,30))\n",
        "  plt.imshow(test_data[i][0].permute(1, 2, 0))\n",
        "  plt.show()\n",
        "  print(new_prediction)\n",
        "  print(\"Predicted:\", new_prediction.argmax())\n",
        "  print(\"Actual number:\", y_test[i])"
      ],
      "metadata": {
        "colab": {
          "base_uri": "https://localhost:8080/",
          "height": 1000
        },
        "id": "hPnVbJUpO17E",
        "outputId": "d9a1b45d-4ff4-4d98-a8bf-8926fd58e21f"
      },
      "execution_count": 217,
      "outputs": [
        {
          "output_type": "display_data",
          "data": {
            "text/plain": [
              "<Figure size 640x480 with 1 Axes>"
            ],
            "image/png": "[encoded data removed]"
          },
          "metadata": {}
        },
        {
          "output_type": "stream",
          "name": "stdout",
          "text": [
            "tensor([[-2.9516e+01, -2.7624e+01, -3.2045e+01, -2.0486e+01, -4.0616e+01,\n",
            "         -2.3994e+01, -2.6361e+01, -2.8072e+01, -2.8373e+01, -2.4321e+01,\n",
            "         -1.8116e+01, -1.4432e+01, -2.1591e+01, -3.1822e+01, -2.8267e+01,\n",
            "         -3.3714e+01, -2.1121e+01, -2.6260e+01, -2.3749e+01, -1.8086e+01,\n",
            "         -1.8120e-05, -2.7816e+01, -2.1432e+01, -1.3173e+01, -2.1679e+01,\n",
            "         -1.2532e+01, -1.8581e+01, -1.9911e+01, -1.1359e+01, -1.6356e+01,\n",
            "         -1.5128e+01, -2.3030e+01, -2.5708e+01, -3.6471e+01, -3.1043e+01,\n",
            "         -2.8443e+01, -2.7378e+01, -3.6419e+01, -2.7560e+01, -3.5217e+01,\n",
            "         -2.8609e+01, -2.2298e+01, -2.2145e+01]])\n",
            "Predicted: tensor(20)\n",
            "Actual number: tensor(20)\n"
          ]
        },
        {
          "output_type": "display_data",
          "data": {
            "text/plain": [
              "<Figure size 640x480 with 1 Axes>"
            ],
            "image/png": "[encoded data removed]"
          },
          "metadata": {}
        },
        {
          "output_type": "stream",
          "name": "stdout",
          "text": [
            "tensor([[-17.4598, -12.0976, -10.0865, -10.9250, -14.9497,  -0.1727, -13.9737,\n",
            "          -1.9393,  -4.2171, -18.7888, -24.4998, -31.8945, -33.5029, -24.2411,\n",
            "         -27.6384, -22.7889, -20.6304, -28.5450, -34.2997, -27.5056, -26.7731,\n",
            "         -30.4261, -35.3346, -21.7114, -28.2359, -23.7838, -28.9478, -36.1633,\n",
            "         -28.8987, -24.1190, -18.3153, -22.3466, -25.0704, -21.0865, -27.1861,\n",
            "         -27.0888, -28.0456, -34.0011, -16.1731, -28.9593, -16.7810, -29.1679,\n",
            "         -16.5129]])\n",
            "Predicted: tensor(5)\n",
            "Actual number: tensor(7)\n"
          ]
        },
        {
          "output_type": "display_data",
          "data": {
            "text/plain": [
              "<Figure size 640x480 with 1 Axes>"
            ],
            "image/png": "[encoded data removed]"
          },
          "metadata": {}
        },
        {
          "output_type": "stream",
          "name": "stdout",
          "text": [
            "tensor([[-2.9811e+01, -1.9487e+01, -3.1832e+01, -5.3104e+01, -1.5497e-06,\n",
            "         -4.4274e+01, -5.6196e+01, -3.2520e+01, -2.3089e+01, -3.1368e+01,\n",
            "         -2.9873e+01, -5.5329e+01, -4.0010e+01, -3.1049e+01, -4.7027e+01,\n",
            "         -2.5544e+01, -4.3800e+01, -3.0111e+01, -2.4136e+01, -1.3364e+01,\n",
            "         -4.7245e+01, -4.0377e+01, -4.9616e+01, -4.5458e+01, -2.9034e+01,\n",
            "         -3.6436e+01, -2.2851e+01, -4.5697e+01, -5.7389e+01, -5.3417e+01,\n",
            "         -5.6028e+01, -3.9431e+01, -3.5077e+01, -3.8968e+01, -4.8413e+01,\n",
            "         -4.6120e+01, -4.5410e+01, -3.6650e+01, -4.3665e+01, -4.5669e+01,\n",
            "         -5.0858e+01, -4.1962e+01, -5.8702e+01]])\n",
            "Predicted: tensor(4)\n",
            "Actual number: tensor(4)\n"
          ]
        },
        {
          "output_type": "display_data",
          "data": {
            "text/plain": [
              "<Figure size 640x480 with 1 Axes>"
            ],
            "image/png": "[encoded data removed]"
          },
          "metadata": {}
        },
        {
          "output_type": "stream",
          "name": "stdout",
          "text": [
            "tensor([[-1.2842e+01, -1.3984e+01, -1.7776e+01, -1.9464e+01, -7.5974e+00,\n",
            "         -1.1922e+01, -2.3717e+01, -7.7126e+00, -9.5953e-04, -1.6724e+01,\n",
            "         -1.9224e+01, -3.3769e+01, -3.1149e+01, -2.3527e+01, -2.8476e+01,\n",
            "         -2.2634e+01, -2.2767e+01, -2.0429e+01, -2.8170e+01, -1.9329e+01,\n",
            "         -2.4422e+01, -3.0397e+01, -2.9682e+01, -2.3512e+01, -3.1256e+01,\n",
            "         -2.4483e+01, -2.1602e+01, -3.4684e+01, -3.6265e+01, -2.8964e+01,\n",
            "         -2.6977e+01, -2.4742e+01, -2.8127e+01, -2.4691e+01, -2.5427e+01,\n",
            "         -2.9791e+01, -2.9134e+01, -2.8600e+01, -1.7541e+01, -2.7181e+01,\n",
            "         -2.3087e+01, -2.8471e+01, -2.7933e+01]])\n",
            "Predicted: tensor(8)\n",
            "Actual number: tensor(8)\n"
          ]
        },
        {
          "output_type": "display_data",
          "data": {
            "text/plain": [
              "<Figure size 640x480 with 1 Axes>"
            ],
            "image/png": "[encoded data removed]"
          },
          "metadata": {}
        },
        {
          "output_type": "stream",
          "name": "stdout",
          "text": [
            "tensor([[-2.7007e+01, -1.0326e+01, -3.5881e-05, -2.9189e+01, -1.2701e+01,\n",
            "         -1.9474e+01, -2.5428e+01, -2.5687e+01, -2.3240e+01, -3.3283e+01,\n",
            "         -3.6886e+01, -4.7665e+01, -3.6566e+01, -2.9548e+01, -3.5635e+01,\n",
            "         -2.3438e+01, -4.6634e+01, -4.8244e+01, -3.4616e+01, -3.2877e+01,\n",
            "         -3.7928e+01, -3.6835e+01, -3.9454e+01, -3.7372e+01, -3.1858e+01,\n",
            "         -3.2015e+01, -3.2743e+01, -4.7354e+01, -4.4219e+01, -3.3280e+01,\n",
            "         -4.7479e+01, -2.1241e+01, -2.4665e+01, -2.8368e+01, -4.6956e+01,\n",
            "         -3.7540e+01, -3.2058e+01, -3.8594e+01, -3.2855e+01, -3.3147e+01,\n",
            "         -3.3458e+01, -3.8287e+01, -4.1269e+01]])\n",
            "Predicted: tensor(2)\n",
            "Actual number: tensor(2)\n"
          ]
        },
        {
          "output_type": "display_data",
          "data": {
            "text/plain": [
              "<Figure size 640x480 with 1 Axes>"
            ],
            "image/png": "[encoded data removed]"
          },
          "metadata": {}
        },
        {
          "output_type": "stream",
          "name": "stdout",
          "text": [
            "tensor([[-3.3895e+01, -2.5914e+01, -2.9875e+01, -2.0389e+01, -2.7529e+01,\n",
            "         -2.5383e+01, -1.7627e+01, -2.9646e+01, -3.2534e+01, -2.9396e+01,\n",
            "         -1.6924e+01, -1.6095e+01, -2.6941e-05, -1.3072e+01, -2.2004e+01,\n",
            "         -2.9230e+01, -3.0133e+01, -1.9326e+01, -2.3931e+01, -2.8967e+01,\n",
            "         -1.3745e+01, -3.5314e+01, -3.0744e+01, -3.3731e+01, -3.1077e+01,\n",
            "         -1.5537e+01, -1.8626e+01, -3.0328e+01, -2.7169e+01, -3.5067e+01,\n",
            "         -2.2084e+01, -3.8417e+01, -1.0662e+01, -2.4415e+01, -2.0711e+01,\n",
            "         -2.5076e+01, -1.8524e+01, -2.5360e+01, -2.3018e+01, -2.6671e+01,\n",
            "         -2.6762e+01, -1.7409e+01, -1.7089e+01]])\n",
            "Predicted: tensor(12)\n",
            "Actual number: tensor(12)\n"
          ]
        },
        {
          "output_type": "display_data",
          "data": {
            "text/plain": [
              "<Figure size 640x480 with 1 Axes>"
            ],
            "image/png": "[encoded data removed]"
          },
          "metadata": {}
        },
        {
          "output_type": "stream",
          "name": "stdout",
          "text": [
            "tensor([[-17.1895, -18.4763, -25.7779, -22.5473, -30.9951, -23.2458, -42.0828,\n",
            "         -30.8085, -23.9894, -24.4565, -28.0136, -35.2652, -26.9445, -21.7176,\n",
            "           0.0000, -20.2608, -30.3629, -18.9287, -27.7865, -40.2231, -24.7210,\n",
            "         -43.0417, -20.6537, -36.2848, -35.3587, -21.5858, -25.8209, -34.3389,\n",
            "         -24.3714, -18.4568, -32.1075, -33.9208, -24.3260, -38.0365, -37.6875,\n",
            "         -33.0323, -31.6515, -48.6571, -35.9281, -39.1902, -39.5350, -39.5058,\n",
            "         -43.4233]])\n",
            "Predicted: tensor(14)\n",
            "Actual number: tensor(14)\n"
          ]
        }
      ]
    }
  ]
}